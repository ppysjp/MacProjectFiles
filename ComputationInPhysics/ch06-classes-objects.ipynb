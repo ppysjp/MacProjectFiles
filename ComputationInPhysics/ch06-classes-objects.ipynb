{
 "metadata": {
  "name": "",
  "signature": "sha256:f836ba88dad05ca9c5ff6f99f0bf19326ed9dc3a96982a4c1b2c9f489ea8e900"
 },
 "nbformat": 3,
 "nbformat_minor": 0,
 "worksheets": [
  {
   "cells": [
    {
     "cell_type": "code",
     "collapsed": false,
     "input": [
      "a = 1\n",
      "help(a)"
     ],
     "language": "python",
     "metadata": {},
     "outputs": [
      {
       "output_type": "stream",
       "stream": "stdout",
       "text": [
        "Help on int object:\n",
        "\n",
        "class int(object)\n",
        " |  int(x=0) -> integer\n",
        " |  int(x, base=10) -> integer\n",
        " |  \n",
        " |  Convert a number or string to an integer, or return 0 if no arguments\n",
        " |  are given.  If x is a number, return x.__int__().  For floating point\n",
        " |  numbers, this truncates towards zero.\n",
        " |  \n",
        " |  If x is not a number or if base is given, then x must be a string,\n",
        " |  bytes, or bytearray instance representing an integer literal in the\n",
        " |  given base.  The literal can be preceded by '+' or '-' and be surrounded\n",
        " |  by whitespace.  The base defaults to 10.  Valid bases are 0 and 2-36.\n",
        " |  Base 0 means to interpret the base from the string as an integer literal.\n",
        " |  >>> int('0b100', base=0)\n",
        " |  4\n",
        " |  \n",
        " |  Methods defined here:\n",
        " |  \n",
        " |  __abs__(self, /)\n",
        " |      abs(self)\n",
        " |  \n",
        " |  __add__(self, value, /)\n",
        " |      Return self+value.\n",
        " |  \n",
        " |  __and__(self, value, /)\n",
        " |      Return self&value.\n",
        " |  \n",
        " |  __bool__(self, /)\n",
        " |      self != 0\n",
        " |  \n",
        " |  __ceil__(...)\n",
        " |      Ceiling of an Integral returns itself.\n",
        " |  \n",
        " |  __divmod__(self, value, /)\n",
        " |      Return divmod(self, value).\n",
        " |  \n",
        " |  __eq__(self, value, /)\n",
        " |      Return self==value.\n",
        " |  \n",
        " |  __float__(self, /)\n",
        " |      float(self)\n",
        " |  \n",
        " |  __floor__(...)\n",
        " |      Flooring an Integral returns itself.\n",
        " |  \n",
        " |  __floordiv__(self, value, /)\n",
        " |      Return self//value.\n",
        " |  \n",
        " |  __format__(...)\n",
        " |  \n",
        " |  __ge__(self, value, /)\n",
        " |      Return self>=value.\n",
        " |  \n",
        " |  __getattribute__(self, name, /)\n",
        " |      Return getattr(self, name).\n",
        " |  \n",
        " |  __getnewargs__(...)\n",
        " |  \n",
        " |  __gt__(self, value, /)\n",
        " |      Return self>value.\n",
        " |  \n",
        " |  __hash__(self, /)\n",
        " |      Return hash(self).\n",
        " |  \n",
        " |  __index__(self, /)\n",
        " |      Return self converted to an integer, if self is suitable for use as an index into a list.\n",
        " |  \n",
        " |  __int__(self, /)\n",
        " |      int(self)\n",
        " |  \n",
        " |  __invert__(self, /)\n",
        " |      ~self\n",
        " |  \n",
        " |  __le__(self, value, /)\n",
        " |      Return self<=value.\n",
        " |  \n",
        " |  __lshift__(self, value, /)\n",
        " |      Return self<<value.\n",
        " |  \n",
        " |  __lt__(self, value, /)\n",
        " |      Return self<value.\n",
        " |  \n",
        " |  __mod__(self, value, /)\n",
        " |      Return self%value.\n",
        " |  \n",
        " |  __mul__(self, value, /)\n",
        " |      Return self*value.\n",
        " |  \n",
        " |  __ne__(self, value, /)\n",
        " |      Return self!=value.\n",
        " |  \n",
        " |  __neg__(self, /)\n",
        " |      -self\n",
        " |  \n",
        " |  __new__(*args, **kwargs) from builtins.type\n",
        " |      Create and return a new object.  See help(type) for accurate signature.\n",
        " |  \n",
        " |  __or__(self, value, /)\n",
        " |      Return self|value.\n",
        " |  \n",
        " |  __pos__(self, /)\n",
        " |      +self\n",
        " |  \n",
        " |  __pow__(self, value, mod=None, /)\n",
        " |      Return pow(self, value, mod).\n",
        " |  \n",
        " |  __radd__(self, value, /)\n",
        " |      Return value+self.\n",
        " |  \n",
        " |  __rand__(self, value, /)\n",
        " |      Return value&self.\n",
        " |  \n",
        " |  __rdivmod__(self, value, /)\n",
        " |      Return divmod(value, self).\n",
        " |  \n",
        " |  __repr__(self, /)\n",
        " |      Return repr(self).\n",
        " |  \n",
        " |  __rfloordiv__(self, value, /)\n",
        " |      Return value//self.\n",
        " |  \n",
        " |  __rlshift__(self, value, /)\n",
        " |      Return value<<self.\n",
        " |  \n",
        " |  __rmod__(self, value, /)\n",
        " |      Return value%self.\n",
        " |  \n",
        " |  __rmul__(self, value, /)\n",
        " |      Return value*self.\n",
        " |  \n",
        " |  __ror__(self, value, /)\n",
        " |      Return value|self.\n",
        " |  \n",
        " |  __round__(...)\n",
        " |      Rounding an Integral returns itself.\n",
        " |      Rounding with an ndigits argument also returns an integer.\n",
        " |  \n",
        " |  __rpow__(self, value, mod=None, /)\n",
        " |      Return pow(value, self, mod).\n",
        " |  \n",
        " |  __rrshift__(self, value, /)\n",
        " |      Return value>>self.\n",
        " |  \n",
        " |  __rshift__(self, value, /)\n",
        " |      Return self>>value.\n",
        " |  \n",
        " |  __rsub__(self, value, /)\n",
        " |      Return value-self.\n",
        " |  \n",
        " |  __rtruediv__(self, value, /)\n",
        " |      Return value/self.\n",
        " |  \n",
        " |  __rxor__(self, value, /)\n",
        " |      Return value^self.\n",
        " |  \n",
        " |  __sizeof__(...)\n",
        " |      Returns size in memory, in bytes\n",
        " |  \n",
        " |  __str__(self, /)\n",
        " |      Return str(self).\n",
        " |  \n",
        " |  __sub__(self, value, /)\n",
        " |      Return self-value.\n",
        " |  \n",
        " |  __truediv__(self, value, /)\n",
        " |      Return self/value.\n",
        " |  \n",
        " |  __trunc__(...)\n",
        " |      Truncating an Integral returns itself.\n",
        " |  \n",
        " |  __xor__(self, value, /)\n",
        " |      Return self^value.\n",
        " |  \n",
        " |  bit_length(...)\n",
        " |      int.bit_length() -> int\n",
        " |      \n",
        " |      Number of bits necessary to represent self in binary.\n",
        " |      >>> bin(37)\n",
        " |      '0b100101'\n",
        " |      >>> (37).bit_length()\n",
        " |      6\n",
        " |  \n",
        " |  conjugate(...)\n",
        " |      Returns self, the complex conjugate of any int.\n",
        " |  \n",
        " |  from_bytes(...) from builtins.type\n",
        " |      int.from_bytes(bytes, byteorder, *, signed=False) -> int\n",
        " |      \n",
        " |      Return the integer represented by the given array of bytes.\n",
        " |      \n",
        " |      The bytes argument must either support the buffer protocol or be an\n",
        " |      iterable object producing bytes.  Bytes and bytearray are examples of\n",
        " |      built-in objects that support the buffer protocol.\n",
        " |      \n",
        " |      The byteorder argument determines the byte order used to represent the\n",
        " |      integer.  If byteorder is 'big', the most significant byte is at the\n",
        " |      beginning of the byte array.  If byteorder is 'little', the most\n",
        " |      significant byte is at the end of the byte array.  To request the native\n",
        " |      byte order of the host system, use `sys.byteorder' as the byte order value.\n",
        " |      \n",
        " |      The signed keyword-only argument indicates whether two's complement is\n",
        " |      used to represent the integer.\n",
        " |  \n",
        " |  to_bytes(...)\n",
        " |      int.to_bytes(length, byteorder, *, signed=False) -> bytes\n",
        " |      \n",
        " |      Return an array of bytes representing an integer.\n",
        " |      \n",
        " |      The integer is represented using length bytes.  An OverflowError is\n",
        " |      raised if the integer is not representable with the given number of\n",
        " |      bytes.\n",
        " |      \n",
        " |      The byteorder argument determines the byte order used to represent the\n",
        " |      integer.  If byteorder is 'big', the most significant byte is at the\n",
        " |      beginning of the byte array.  If byteorder is 'little', the most\n",
        " |      significant byte is at the end of the byte array.  To request the native\n",
        " |      byte order of the host system, use `sys.byteorder' as the byte order value.\n",
        " |      \n",
        " |      The signed keyword-only argument determines whether two's complement is\n",
        " |      used to represent the integer.  If signed is False and a negative integer\n",
        " |      is given, an OverflowError is raised.\n",
        " |  \n",
        " |  ----------------------------------------------------------------------\n",
        " |  Data descriptors defined here:\n",
        " |  \n",
        " |  denominator\n",
        " |      the denominator of a rational number in lowest terms\n",
        " |  \n",
        " |  imag\n",
        " |      the imaginary part of a complex number\n",
        " |  \n",
        " |  numerator\n",
        " |      the numerator of a rational number in lowest terms\n",
        " |  \n",
        " |  real\n",
        " |      the real part of a complex number\n",
        "\n"
       ]
      }
     ],
     "prompt_number": 1
    },
    {
     "cell_type": "code",
     "collapsed": false,
     "input": [
      "a = 1\n",
      "dir(a)"
     ],
     "language": "python",
     "metadata": {},
     "outputs": [
      {
       "metadata": {},
       "output_type": "pyout",
       "prompt_number": 2,
       "text": [
        "['__abs__',\n",
        " '__add__',\n",
        " '__and__',\n",
        " '__bool__',\n",
        " '__ceil__',\n",
        " '__class__',\n",
        " '__delattr__',\n",
        " '__dir__',\n",
        " '__divmod__',\n",
        " '__doc__',\n",
        " '__eq__',\n",
        " '__float__',\n",
        " '__floor__',\n",
        " '__floordiv__',\n",
        " '__format__',\n",
        " '__ge__',\n",
        " '__getattribute__',\n",
        " '__getnewargs__',\n",
        " '__gt__',\n",
        " '__hash__',\n",
        " '__index__',\n",
        " '__init__',\n",
        " '__int__',\n",
        " '__invert__',\n",
        " '__le__',\n",
        " '__lshift__',\n",
        " '__lt__',\n",
        " '__mod__',\n",
        " '__mul__',\n",
        " '__ne__',\n",
        " '__neg__',\n",
        " '__new__',\n",
        " '__or__',\n",
        " '__pos__',\n",
        " '__pow__',\n",
        " '__radd__',\n",
        " '__rand__',\n",
        " '__rdivmod__',\n",
        " '__reduce__',\n",
        " '__reduce_ex__',\n",
        " '__repr__',\n",
        " '__rfloordiv__',\n",
        " '__rlshift__',\n",
        " '__rmod__',\n",
        " '__rmul__',\n",
        " '__ror__',\n",
        " '__round__',\n",
        " '__rpow__',\n",
        " '__rrshift__',\n",
        " '__rshift__',\n",
        " '__rsub__',\n",
        " '__rtruediv__',\n",
        " '__rxor__',\n",
        " '__setattr__',\n",
        " '__sizeof__',\n",
        " '__str__',\n",
        " '__sub__',\n",
        " '__subclasshook__',\n",
        " '__truediv__',\n",
        " '__trunc__',\n",
        " '__xor__',\n",
        " 'bit_length',\n",
        " 'conjugate',\n",
        " 'denominator',\n",
        " 'from_bytes',\n",
        " 'imag',\n",
        " 'numerator',\n",
        " 'real',\n",
        " 'to_bytes']"
       ]
      }
     ],
     "prompt_number": 2
    },
    {
     "cell_type": "code",
     "collapsed": false,
     "input": [
      "a = 1\n",
      "a.__abs__()"
     ],
     "language": "python",
     "metadata": {},
     "outputs": [
      {
       "metadata": {},
       "output_type": "pyout",
       "prompt_number": 3,
       "text": [
        "1"
       ]
      }
     ],
     "prompt_number": 3
    },
    {
     "cell_type": "code",
     "collapsed": false,
     "input": [
      "b = -2\n",
      "b.__abs__()"
     ],
     "language": "python",
     "metadata": {},
     "outputs": [
      {
       "metadata": {},
       "output_type": "pyout",
       "prompt_number": 4,
       "text": [
        "2"
       ]
      }
     ],
     "prompt_number": 4
    },
    {
     "cell_type": "code",
     "collapsed": false,
     "input": [
      "a = 1\n",
      "abs(a)"
     ],
     "language": "python",
     "metadata": {},
     "outputs": [
      {
       "metadata": {},
       "output_type": "pyout",
       "prompt_number": 5,
       "text": [
        "1"
       ]
      }
     ],
     "prompt_number": 5
    },
    {
     "cell_type": "code",
     "collapsed": false,
     "input": [
      "b = -2\n",
      "abs(b)"
     ],
     "language": "python",
     "metadata": {},
     "outputs": [
      {
       "metadata": {},
       "output_type": "pyout",
       "prompt_number": 6,
       "text": [
        "2"
       ]
      }
     ],
     "prompt_number": 6
    },
    {
     "cell_type": "code",
     "collapsed": false,
     "input": [
      "import math\n",
      "dir(math.sin)"
     ],
     "language": "python",
     "metadata": {},
     "outputs": [
      {
       "metadata": {},
       "output_type": "pyout",
       "prompt_number": 7,
       "text": [
        "['__call__',\n",
        " '__class__',\n",
        " '__delattr__',\n",
        " '__dir__',\n",
        " '__doc__',\n",
        " '__eq__',\n",
        " '__format__',\n",
        " '__ge__',\n",
        " '__getattribute__',\n",
        " '__gt__',\n",
        " '__hash__',\n",
        " '__init__',\n",
        " '__le__',\n",
        " '__lt__',\n",
        " '__module__',\n",
        " '__name__',\n",
        " '__ne__',\n",
        " '__new__',\n",
        " '__qualname__',\n",
        " '__reduce__',\n",
        " '__reduce_ex__',\n",
        " '__repr__',\n",
        " '__self__',\n",
        " '__setattr__',\n",
        " '__sizeof__',\n",
        " '__str__',\n",
        " '__subclasshook__',\n",
        " '__text_signature__']"
       ]
      }
     ],
     "prompt_number": 7
    },
    {
     "cell_type": "code",
     "collapsed": false,
     "input": [
      "import math \n",
      "math.sin.__doc__"
     ],
     "language": "python",
     "metadata": {},
     "outputs": [
      {
       "metadata": {},
       "output_type": "pyout",
       "prompt_number": 8,
       "text": [
        "'sin(x)\\n\\nReturn the sine of x (measured in radians).'"
       ]
      }
     ],
     "prompt_number": 8
    },
    {
     "cell_type": "code",
     "collapsed": false,
     "input": [
      "class Particle(object):\n",
      "    \"\"\"A particle is a constituent unit of the universe.\"\"\"\n",
      "    # class body definition here"
     ],
     "language": "python",
     "metadata": {},
     "outputs": [],
     "prompt_number": 9
    },
    {
     "cell_type": "code",
     "collapsed": false,
     "input": [
      "# particle.py\n",
      "class Particle(object):\n",
      "    \"\"\"A particle is a constituent unit of the universe.\"\"\"\n",
      "    roar = \"I am a particle!\" "
     ],
     "language": "python",
     "metadata": {},
     "outputs": [],
     "prompt_number": 10
    },
    {
     "cell_type": "code",
     "collapsed": false,
     "input": [
      "import os\n",
      "import sys\n",
      "sys.path.insert(0, os.path.abspath('obj'))"
     ],
     "language": "python",
     "metadata": {},
     "outputs": [],
     "prompt_number": 11
    },
    {
     "cell_type": "code",
     "collapsed": false,
     "input": [
      "# import the particle module\n",
      "import particle as p\n",
      "print(p.Particle.roar)"
     ],
     "language": "python",
     "metadata": {},
     "outputs": [
      {
       "output_type": "stream",
       "stream": "stdout",
       "text": [
        "I am a particle!\n"
       ]
      }
     ],
     "prompt_number": 12
    },
    {
     "cell_type": "code",
     "collapsed": false,
     "input": [
      "# import the particle module\n",
      "import particle as p\n",
      "higgs = p.Particle()\n",
      "print(higgs.roar)"
     ],
     "language": "python",
     "metadata": {},
     "outputs": [
      {
       "output_type": "stream",
       "stream": "stdout",
       "text": [
        "I am a particle!\n"
       ]
      }
     ],
     "prompt_number": 13
    },
    {
     "cell_type": "code",
     "collapsed": false,
     "input": [
      "# import the Particle class from the particle module\n",
      "from particle import Particle\n",
      "\n",
      "# create an empty list to hold observed particle data\n",
      "obs = []\n",
      "\n",
      "# append the first particle\n",
      "obs.append(Particle())\n",
      "\n",
      "# assign its position\n",
      "obs[0].r = {'x': 100.0, 'y': 38.0, 'z': -42.0}\n",
      "\n",
      "# append the second particle\n",
      "obs.append(Particle())\n",
      "\n",
      "# assign the position of the second particle\n",
      "obs[1].r = {'x': 0.01, 'y': 99.0, 'z': 32.0}\n",
      "\n",
      "# print the positions of each particle\n",
      "print(obs[0].r)\n",
      "print(obs[1].r)"
     ],
     "language": "python",
     "metadata": {},
     "outputs": [
      {
       "output_type": "stream",
       "stream": "stdout",
       "text": [
        "{'x': 100.0, 'z': -42.0, 'y': 38.0}\n",
        "{'x': 0.01, 'z': 32.0, 'y': 99.0}\n"
       ]
      }
     ],
     "prompt_number": 14
    },
    {
     "cell_type": "code",
     "collapsed": false,
     "input": [
      "# particle.py\n",
      "class Particle(object):\n",
      "    \"\"\"A particle is a constituent unit of the universe.\n",
      "    \n",
      "    Attributes\n",
      "    ----------\n",
      "    c : charge in units of [e]\n",
      "    m : mass in units of [kg]\n",
      "    r : position in units of [meters]\n",
      "    \"\"\"\n",
      "\n",
      "    roar = \"I am a particle!\"\n",
      "\n",
      "    def __init__(self):\n",
      "        \"\"\"Initializes the particle with default values for \n",
      "        charge c, mass m, and position r.\n",
      "        \"\"\"\n",
      "        self.c = 0\n",
      "        self.m = 0\n",
      "        self.r = {'x': 0, 'y': 0, 'z': 0}\n"
     ],
     "language": "python",
     "metadata": {},
     "outputs": [],
     "prompt_number": 15
    },
    {
     "cell_type": "code",
     "collapsed": false,
     "input": [
      "# particle.py\n",
      "class Particle(object):\n",
      "    \"\"\"A particle is a constituent unit of the universe.\n",
      "    \n",
      "    Attributes\n",
      "    ----------\n",
      "    c : charge in units of [e]\n",
      "    m : mass in units of [kg]\n",
      "    r : position in units of [meters]\n",
      "    \"\"\"\n",
      "\n",
      "    roar = \"I am a particle!\"\n",
      "\n",
      "    def __init__(self, charge, mass, position):\n",
      "        \"\"\"Initializes the particle with supplied values for \n",
      "        charge c, mass m, and position r.\n",
      "        \"\"\"\n",
      "        self.c = charge\n",
      "        self.m = mass\n",
      "        self.r = position\n"
     ],
     "language": "python",
     "metadata": {},
     "outputs": [],
     "prompt_number": 16
    },
    {
     "cell_type": "code",
     "collapsed": false,
     "input": [
      "# particle.py\n",
      "class Particle(object):\n",
      "    \"\"\"A particle is a constituent unit of the universe.\n",
      "    \n",
      "    Attributes\n",
      "    ----------\n",
      "    c : charge in units of [e]\n",
      "    m : mass in units of [kg]\n",
      "    r : position in units of [meters]\n",
      "    \"\"\"\n",
      "\n",
      "    roar = \"I am a particle!\"\n",
      "\n",
      "    def __init__(self, charge, mass, position): \n",
      "        \"\"\"Initializes the particle with supplied values for \n",
      "        charge c, mass m, and position r.\n",
      "        \"\"\"\n",
      "        self.c = charge\n",
      "        self.m = mass\n",
      "        self.r = position\n",
      "\n",
      "    def hear_me(self):\n",
      "        myroar = self.roar + (\n",
      "            \"  My charge is:     \" + str(self.c) + \n",
      "            \"  My mass is:       \" + str(self.m) +\n",
      "            \"  My x position is: \" + str(self.r['x']) +\n",
      "            \"  My y position is: \" + str(self.r['y']) +\n",
      "            \"  My z position is: \" + str(self.r['z']))\n",
      "        print(myroar)"
     ],
     "language": "python",
     "metadata": {},
     "outputs": [],
     "prompt_number": 17
    },
    {
     "cell_type": "code",
     "collapsed": false,
     "input": [
      "from scipy import constants\n",
      "\n",
      "import particle as p\n",
      "\n",
      "m_p = constants.m_p\n",
      "r_p = {'x': 1, 'y': 1, 'z': 53}\n",
      "a_p = p.Particle(1, m_p, r_p)\n",
      "a_p.hear_me()"
     ],
     "language": "python",
     "metadata": {},
     "outputs": [
      {
       "output_type": "stream",
       "stream": "stdout",
       "text": [
        "I am a particle!\n",
        " My mass is: 1.672621777e-27\n",
        " My charge is: 1\n",
        " My x position is: 1\n",
        " My y position is: 1\n",
        " My z position is: 53\n"
       ]
      }
     ],
     "prompt_number": 18
    },
    {
     "cell_type": "code",
     "collapsed": false,
     "input": [
      "def flip(self):\n",
      "    if self.flavor == \"up\":\n",
      "        self.flavor = \"down\"\n",
      "    elif self.flavor == \"down\":\n",
      "        self.flavor = \"up\"\n",
      "    elif self.flavor == \"top\":\n",
      "        self.flavor = \"bottom\"\n",
      "    elif self.flavor == \"bottom\":\n",
      "        self.flavor = \"top\"\n",
      "    elif self.flavor == \"strange\":\n",
      "        self.flavor = \"charm\"\n",
      "    elif self.flavor == \"charm\":\n",
      "        self.flavor = \"strange\"\n",
      "    else :\n",
      "        raise AttributeError(\"The quark cannot be flipped, because the \"\n",
      "                             \"flavor is not valid.\")"
     ],
     "language": "python",
     "metadata": {},
     "outputs": [],
     "prompt_number": 19
    },
    {
     "cell_type": "code",
     "collapsed": false,
     "input": [
      "# import the class\n",
      "from quark import Quark\n",
      "\n",
      "# create a Quark object\n",
      "t = Quark()\n",
      "\n",
      "# set the flavor\n",
      "t.flavor = \"top\"\n",
      "\n",
      "# flip the flavor\n",
      "t.flip()\n",
      "\n",
      "# print the flavor\n",
      "print(t.flavor)"
     ],
     "language": "python",
     "metadata": {},
     "outputs": [
      {
       "output_type": "stream",
       "stream": "stdout",
       "text": [
        "bottom\n"
       ]
      }
     ],
     "prompt_number": 20
    },
    {
     "cell_type": "code",
     "collapsed": false,
     "input": [
      "from scipy import constants\n",
      "\n",
      "class Particle(object):\n",
      "    \"\"\"A particle is a constituent unit of the universe.\"\"\"\n",
      "\n",
      "    # ... other parts of the class definition ...\n",
      "\n",
      "    def delta_x_min(self, delta_p_x):\n",
      "        hbar = constants.hbar\n",
      "        delx_min = hbar / (2.0 * delta_p_x)\n",
      "        return delx_min"
     ],
     "language": "python",
     "metadata": {},
     "outputs": [],
     "prompt_number": 21
    },
    {
     "cell_type": "code",
     "collapsed": false,
     "input": [
      "def possible_flavors():\n",
      "    return [\"up\", \"down\", \"top\", \"bottom\", \"strange\", \"charm\"]"
     ],
     "language": "python",
     "metadata": {},
     "outputs": [],
     "prompt_number": 22
    },
    {
     "cell_type": "code",
     "collapsed": false,
     "input": [
      "from scipy import constants\n",
      "\n",
      "def possible_flavors():\n",
      "  return[\"up\",\"down\",\"top\",\"bottom\",\"strange\",\"charm\"]\n",
      "\n",
      "class Particle(object):\n",
      "    \"\"\"A particle is a constituent unit of the universe.\"\"\"\n",
      "\n",
      "    # ... other parts of the class definition ...\n",
      "\n",
      "    def delta_x_min(self, delta_p_x):\n",
      "        hbar = constants.hbar\n",
      "        delx_min = hbar / (2.0 * delta_p_x)\n",
      "        return delx_min\n",
      "\n",
      "    @staticmethod\n",
      "    def possible_flavors():\n",
      "        return [\"up\", \"down\", \"top\", \"bottom\", \"strange\", \"charm\"]"
     ],
     "language": "python",
     "metadata": {},
     "outputs": [],
     "prompt_number": 23
    },
    {
     "cell_type": "code",
     "collapsed": false,
     "input": [
      "def total_charge(particles):\n",
      "    tot = 0\n",
      "    for p in particles:\n",
      "        tot += p.c\n",
      "    return tot"
     ],
     "language": "python",
     "metadata": {},
     "outputs": [],
     "prompt_number": 24
    },
    {
     "cell_type": "code",
     "collapsed": false,
     "input": [
      "def total_charge(collection):\n",
      "    tot = 0\n",
      "    for p in collection:\n",
      "        if isinstance(p, Particle):\n",
      "            tot += p.c\n",
      "    return tot"
     ],
     "language": "python",
     "metadata": {},
     "outputs": [],
     "prompt_number": 25
    },
    {
     "cell_type": "code",
     "collapsed": false,
     "input": [
      "# elementary.py\n",
      "class ElementaryParticle(Particle):\n",
      "\n",
      "    def __init__(self, spin):\n",
      "        self.s = spin\n",
      "        self.is_fermion = bool(spin % 1.0)\n",
      "        self.is_boson = not self.is_fermion"
     ],
     "language": "python",
     "metadata": {},
     "outputs": [],
     "prompt_number": 26
    },
    {
     "cell_type": "code",
     "collapsed": false,
     "input": [
      "# composite.py\n",
      "class CompositeParticle(Particle):\n",
      "\n",
      "    def __init__(self, parts):\n",
      "        self.constituents = parts"
     ],
     "language": "python",
     "metadata": {},
     "outputs": [],
     "prompt_number": 27
    },
    {
     "cell_type": "code",
     "collapsed": false,
     "input": [
      "# elementary.py\n",
      "class ElementaryParticle(Particle):\n",
      "\n",
      "    roar = \"I am an Elementary Particle!\"\n",
      "\n",
      "    def __init__(self, spin):\n",
      "        self.s = spin\n",
      "        self.is_fermion = bool(spin % 1.0)\n",
      "        self.is_boson = not self.is_fermion"
     ],
     "language": "python",
     "metadata": {},
     "outputs": [],
     "prompt_number": 28
    },
    {
     "cell_type": "code",
     "collapsed": false,
     "input": [
      "from elementary import ElementaryParticle\n",
      "\n",
      "spin = 1.5\n",
      "p = ElementaryParticle(spin)\n",
      "p.s\n",
      "p.hear_me()"
     ],
     "language": "python",
     "metadata": {},
     "outputs": [
      {
       "ename": "AttributeError",
       "evalue": "'ElementaryParticle' object has no attribute 'm'",
       "output_type": "pyerr",
       "traceback": [
        "\u001b[1;31m---------------------------------------------------------------------------\u001b[0m\n\u001b[1;31mAttributeError\u001b[0m                            Traceback (most recent call last)",
        "\u001b[1;32m<ipython-input-29-04a38822c38e>\u001b[0m in \u001b[0;36m<module>\u001b[1;34m()\u001b[0m\n\u001b[0;32m      4\u001b[0m \u001b[0mp\u001b[0m \u001b[1;33m=\u001b[0m \u001b[0mElementaryParticle\u001b[0m\u001b[1;33m(\u001b[0m\u001b[0mspin\u001b[0m\u001b[1;33m)\u001b[0m\u001b[1;33m\u001b[0m\u001b[0m\n\u001b[0;32m      5\u001b[0m \u001b[0mp\u001b[0m\u001b[1;33m.\u001b[0m\u001b[0ms\u001b[0m\u001b[1;33m\u001b[0m\u001b[0m\n\u001b[1;32m----> 6\u001b[1;33m \u001b[0mp\u001b[0m\u001b[1;33m.\u001b[0m\u001b[0mhear_me\u001b[0m\u001b[1;33m(\u001b[0m\u001b[1;33m)\u001b[0m\u001b[1;33m\u001b[0m\u001b[0m\n\u001b[0m",
        "\u001b[1;32m/home/scopatz/physics-codes-examples/obj/particle.py\u001b[0m in \u001b[0;36mhear_me\u001b[1;34m(self)\u001b[0m\n\u001b[0;32m     13\u001b[0m         \u001b[1;34m\" My x position is: \"\u001b[0m \u001b[1;33m+\u001b[0m \u001b[0mstr\u001b[0m\u001b[1;33m(\u001b[0m\u001b[0mself\u001b[0m\u001b[1;33m.\u001b[0m\u001b[0mr\u001b[0m\u001b[1;33m[\u001b[0m\u001b[1;34m'x'\u001b[0m\u001b[1;33m]\u001b[0m\u001b[1;33m)\u001b[0m \u001b[1;33m+\u001b[0m\u001b[1;34m\"\\n\"\u001b[0m\u001b[1;33m+\u001b[0m\u001b[0;31m\\\u001b[0m\u001b[1;33m\u001b[0m\u001b[0m\n\u001b[0;32m     14\u001b[0m         \u001b[1;34m\" My y position is: \"\u001b[0m \u001b[1;33m+\u001b[0m \u001b[0mstr\u001b[0m\u001b[1;33m(\u001b[0m\u001b[0mself\u001b[0m\u001b[1;33m.\u001b[0m\u001b[0mr\u001b[0m\u001b[1;33m[\u001b[0m\u001b[1;34m'y'\u001b[0m\u001b[1;33m]\u001b[0m\u001b[1;33m)\u001b[0m \u001b[1;33m+\u001b[0m\u001b[1;34m\"\\n\"\u001b[0m\u001b[1;33m+\u001b[0m\u001b[0;31m\\\u001b[0m\u001b[1;33m\u001b[0m\u001b[0m\n\u001b[1;32m---> 15\u001b[1;33m         \u001b[1;34m\" My z position is: \"\u001b[0m \u001b[1;33m+\u001b[0m \u001b[0mstr\u001b[0m\u001b[1;33m(\u001b[0m\u001b[0mself\u001b[0m\u001b[1;33m.\u001b[0m\u001b[0mr\u001b[0m\u001b[1;33m[\u001b[0m\u001b[1;34m'z'\u001b[0m\u001b[1;33m]\u001b[0m\u001b[1;33m)\u001b[0m\u001b[1;33m\u001b[0m\u001b[0m\n\u001b[0m\u001b[0;32m     16\u001b[0m         \u001b[0mprint\u001b[0m\u001b[1;33m(\u001b[0m\u001b[0mself\u001b[0m\u001b[1;33m.\u001b[0m\u001b[0mmyroar\u001b[0m\u001b[1;33m)\u001b[0m\u001b[1;33m\u001b[0m\u001b[0m\n\u001b[0;32m     17\u001b[0m \u001b[1;33m\u001b[0m\u001b[0m\n",
        "\u001b[1;31mAttributeError\u001b[0m: 'ElementaryParticle' object has no attribute 'm'"
       ]
      }
     ],
     "prompt_number": 29
    },
    {
     "cell_type": "code",
     "collapsed": false,
     "input": [
      "import randphys as rp\n",
      "\n",
      "class Quark(ElementaryParticle):\n",
      "\n",
      "    def __init__(self):\n",
      "        phys = rp.RandomPhysics()\n",
      "        self.color = phys.color()\n",
      "        self.charge = phys.charge()\n",
      "        self.color_charge = phys.color_charge()\n",
      "        self.spin = phys.spin()\n",
      "        self.flavor = phys.flavor()"
     ],
     "language": "python",
     "metadata": {},
     "outputs": [],
     "prompt_number": 30
    },
    {
     "cell_type": "code",
     "collapsed": false,
     "input": [
      "def add_is_particle(cls): <1>\n",
      "    cls.is_particle = True <2>\n",
      "    return cls <3>\n",
      "\n",
      "\n",
      "@add_is_particle <4>\n",
      "class Particle(object):\n",
      "    \"\"\"A particle is a constituent unit of the universe.\"\"\"\n",
      "\n",
      "    # ... other parts of the class definition ..."
     ],
     "language": "python",
     "metadata": {},
     "outputs": [
      {
       "ename": "SyntaxError",
       "evalue": "invalid syntax (<ipython-input-31-7baafc632b38>, line 1)",
       "output_type": "pyerr",
       "traceback": [
        "\u001b[1;36m  File \u001b[1;32m\"<ipython-input-31-7baafc632b38>\"\u001b[1;36m, line \u001b[1;32m1\u001b[0m\n\u001b[1;33m    def add_is_particle(cls): <1>\u001b[0m\n\u001b[1;37m                              ^\u001b[0m\n\u001b[1;31mSyntaxError\u001b[0m\u001b[1;31m:\u001b[0m invalid syntax\n"
       ]
      }
     ],
     "prompt_number": 31
    },
    {
     "cell_type": "code",
     "collapsed": false,
     "input": [
      "from math import sqrt\n",
      "\n",
      "def add_distance(cls):\n",
      "    def distance(self, other): \n",
      "        d2 = 0.0\n",
      "        for axis in ['x', 'y', 'z']:\n",
      "            d2 += (self.r[axis] - other.r[axis])**2\n",
      "        d = sqrt(d2)\n",
      "        return d\n",
      "    cls.distance = distance\n",
      "    return cls \n",
      "\n",
      "\n",
      "@add_distance\n",
      "class Particle(object):\n",
      "    \"\"\"A particle is a constituent unit of the universe.\"\"\"\n",
      "\n",
      "    # ... other parts of the class definition ..."
     ],
     "language": "python",
     "metadata": {},
     "outputs": [],
     "prompt_number": 32
    },
    {
     "cell_type": "code",
     "collapsed": false,
     "input": [
      "type(type)"
     ],
     "language": "python",
     "metadata": {},
     "outputs": [
      {
       "metadata": {},
       "output_type": "pyout",
       "prompt_number": 33,
       "text": [
        "type"
       ]
      }
     ],
     "prompt_number": 33
    },
    {
     "cell_type": "code",
     "collapsed": false,
     "input": [
      "class IsParticle(type):\n",
      "    pass"
     ],
     "language": "python",
     "metadata": {},
     "outputs": [],
     "prompt_number": 34
    },
    {
     "cell_type": "code",
     "collapsed": false,
     "input": [
      "class Particle(metaclass=IsParticle):\n",
      "    \"\"\"A particle is a constituent unit of the universe.\"\"\"\n",
      "\n",
      "    # ... other parts of the class definition ..."
     ],
     "language": "python",
     "metadata": {},
     "outputs": [],
     "prompt_number": 35
    },
    {
     "cell_type": "code",
     "collapsed": false,
     "input": [
      "isinstance(Particle, IsParticle)\n",
      "p = Particle()"
     ],
     "language": "python",
     "metadata": {},
     "outputs": [],
     "prompt_number": 36
    },
    {
     "cell_type": "code",
     "collapsed": false,
     "input": [
      "isinstance(p, IsParticle)"
     ],
     "language": "python",
     "metadata": {},
     "outputs": [
      {
       "metadata": {},
       "output_type": "pyout",
       "prompt_number": 37,
       "text": [
        "False"
       ]
      }
     ],
     "prompt_number": 37
    }
   ],
   "metadata": {}
  }
 ]
}