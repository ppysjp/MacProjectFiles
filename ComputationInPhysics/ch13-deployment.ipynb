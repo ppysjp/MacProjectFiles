{
 "metadata": {
  "name": "",
  "signature": "sha256:edf1ca894a94cfa25a8797702bfc13da0ae902f6e98cab5e7dc188bd0b661c8f"
 },
 "nbformat": 3,
 "nbformat_minor": 0,
 "worksheets": [
  {
   "cells": [
    {
     "cell_type": "markdown",
     "metadata": {},
     "source": [
      "# This file is also available in *.py format"
     ]
    },
    {
     "cell_type": "code",
     "collapsed": false,
     "input": [
      "import sys\n",
      "try:\n",
      "    from setuptools import setup\n",
      "    have_setuptools = True\n",
      "except ImportError:\n",
      "    from distutils.core import setup\n",
      "    have_setuptools = False\n",
      "\n",
      "setup_kwargs = {\n",
      "    'name': 'compphys',\n",
      "    'version': '0.1',\n",
      "    'description': 'Effective Computation in Physics',\n",
      "    'author': 'Anthony Scopatz and Kathryn D. Huff',\n",
      "    'author_email': 'koolkatz@gmail.com',\n",
      "    'url': 'http://www.oreilly.com/',\n",
      "    'classifiers': [\n",
      "        'License :: OSI Approved',\n",
      "        'Intended Audience :: Developers',\n",
      "        'Programming Language :: Python :: 3',\n",
      "        ],\n",
      "    'zip_safe': False,\n",
      "    'packages': ['compphys', 'compphys.more'],\n",
      "    'package_dir': {\n",
      "        'compphys': 'compphys', \n",
      "        'compphys.more': 'compphys/more', \n",
      "        },\n",
      "    'data_files': [('compphys/raw', ['*.txt'])],\n",
      "    }\n",
      "\n",
      "#if __name__ == '__main__':\n",
      "#    setup(**setup_kwargs)"
     ],
     "language": "python",
     "metadata": {},
     "outputs": [],
     "prompt_number": 1
    }
   ],
   "metadata": {}
  }
 ]
}