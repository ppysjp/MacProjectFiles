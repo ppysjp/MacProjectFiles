{
 "metadata": {
  "name": "",
  "signature": "sha256:fe70bfe5fa43c0a394b77047165dbe070eaa55757e5d6c072ca9529dc7b207c2"
 },
 "nbformat": 3,
 "nbformat_minor": 0,
 "worksheets": [
  {
   "cells": [
    {
     "cell_type": "markdown",
     "metadata": {},
     "source": [
      "# No Python Code in Chapter 21"
     ]
    }
   ],
   "metadata": {}
  }
 ]
}