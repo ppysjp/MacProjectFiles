{
 "metadata": {
  "name": "",
  "signature": "sha256:d2478519e875fc5cc9892649ab8fcf72ebf1d040ff41898a7e83e707bbba9feb"
 },
 "nbformat": 3,
 "nbformat_minor": 0,
 "worksheets": [
  {
   "cells": [
    {
     "cell_type": "markdown",
     "metadata": {},
     "source": [
      "# Please also refer to the accompanying *n-body-** notebooks Python files for the specific parallel solutions.  "
     ]
    },
    {
     "cell_type": "code",
     "collapsed": false,
     "input": [
      "import numpy as np\n",
      "\n",
      "def remove_i(x, i):\n",
      "    \"\"\"Drops the ith element of an array.\"\"\"\n",
      "    shape = (x.shape[0]-1,) + x.shape[1:]\n",
      "    y = np.empty(shape, dtype=float)\n",
      "    y[:i] = x[:i]\n",
      "    y[i:] = x[i+1:]\n",
      "    return y\n",
      "\n",
      "def a(i, x, G, m):\n",
      "    \"\"\"The acceleration of the ith mass.\"\"\"\n",
      "    x_i = x[i]\n",
      "    x_j = remove_i(x, i)\n",
      "    m_j = remove_i(m, i)\n",
      "    diff = x_j - x_i\n",
      "    mag3 = np.sum(diff**2, axis=1)**1.5\n",
      "    result = G * np.sum(diff * (m_j / mag3)[:,np.newaxis], axis=0)\n",
      "    return result\n",
      "\n",
      "def timestep(x0, v0, G, m, dt):\n",
      "    \"\"\"Computes the next position and velocity for all masses given \n",
      "    initial conditions and a time step size.\n",
      "    \"\"\"\n",
      "    N = len(x0)\n",
      "    x1 = np.empty(x0.shape, dtype=float)\n",
      "    v1 = np.empty(v0.shape, dtype=float)\n",
      "    for i in range(N):\n",
      "        a_i0 = a(i, x0, G, m)\n",
      "        v1[i] = a_i0 * dt + v0[i]\n",
      "        x1[i] = a_i0 * dt**2 + v0[i] * dt + x0[i]\n",
      "    return x1, v1\n",
      "\n",
      "def initial_cond(N, D):\n",
      "    \"\"\"Generates initial conditions for N unity masses at rest \n",
      "    starting at random positions in D-dimensional space.\n",
      "    \"\"\"\n",
      "    x0 = np.random.rand(N, D)\n",
      "    v0 = np.zeros((N, D), dtype=float)\n",
      "    m = np.ones(N, dtype=float)\n",
      "    return x0, v0, m "
     ],
     "language": "python",
     "metadata": {},
     "outputs": []
    },
    {
     "cell_type": "code",
     "collapsed": false,
     "input": [
      "x0, v0, m = initial_cond(10, 2)\n",
      "x1, v1 = timestep(x0, v0, 1.0, m, 1.0e-3)"
     ],
     "language": "python",
     "metadata": {},
     "outputs": []
    },
    {
     "cell_type": "code",
     "collapsed": false,
     "input": [
      "def simulate(N, D, S, G, dt):\n",
      "    x0, v0, m = initial_cond(N, D)\n",
      "    for s in range(S):\n",
      "        x1, v1 = timestep(x0, v0, G, m, dt)\n",
      "        x0, v0 = x1, v1"
     ],
     "language": "python",
     "metadata": {},
     "outputs": []
    },
    {
     "cell_type": "code",
     "collapsed": false,
     "input": [
      "import time\n",
      "Ns = [2, 4, 8, 16, 32, 64, 128, 256, 512, 1024, 2048, 4096, 8192]\n",
      "runtimes = []\n",
      "for N in Ns:\n",
      "    start = time.time()\n",
      "    simulate(N, 3, 300, 1.0, 1e-3)\n",
      "    stop = time.time()\n",
      "    runtimes.append(stop - start)"
     ],
     "language": "python",
     "metadata": {},
     "outputs": []
    },
    {
     "cell_type": "code",
     "collapsed": false,
     "input": [
      "from threading import Thread\n",
      "\n",
      "class Worker(Thread):\n",
      "    \"\"\"Computes x, v, and a of the ith body.\"\"\"\n",
      "    def __init__(self, *args, **kwargs):\n",
      "        super(Worker, self).__init__(*args, **kwargs)\n",
      "        self.inputs = []\n",
      "        self.results = []\n",
      "        self.running = True\n",
      "        self.daemon = True\n",
      "        self.start()\n",
      "        \n",
      "    def run(self):\n",
      "        while self.running:\n",
      "            if len(self.inputs) == 0:\n",
      "                continue\n",
      "            i, x0, v0, G, m, dt = self.inputs.pop(0)\n",
      "            a_i0 = a(i, x0, G, m)\n",
      "            v_i1 = a_i0 * dt + v0[i]\n",
      "            x_i1 = a_i0 * dt**2 + v0[i] * dt + x0[i]\n",
      "            result = (i, x_i1, v_i1)\n",
      "            self.results.append(result)"
     ],
     "language": "python",
     "metadata": {},
     "outputs": []
    },
    {
     "cell_type": "code",
     "collapsed": false,
     "input": [
      "class Pool(object):\n",
      "    \"\"\"A collection of P worker threads that distributes tasks \n",
      "    evenly across them.\n",
      "    \"\"\"\n",
      "    def __init__(self, size):\n",
      "        self.size = size\n",
      "        self.workers = [Worker() for p in range(size)]\n",
      "        \n",
      "    def do(self, tasks):\n",
      "        for p in range(self.size):\n",
      "            self.workers[p].inputs += tasks[p::self.size]\n",
      "        while any([len(worker.inputs) != 0 for worker in self.workers]):\n",
      "            pass\n",
      "        results = []\n",
      "        for worker in self.workers:\n",
      "            results += worker.results\n",
      "            worker.results.clear()\n",
      "        return results\n",
      "    \n",
      "    def __del__(self):\n",
      "        for worker in self.workers:\n",
      "            worker.running = False"
     ],
     "language": "python",
     "metadata": {},
     "outputs": []
    },
    {
     "cell_type": "code",
     "collapsed": false,
     "input": [
      "def timestep(x0, v0, G, m, dt, pool):\n",
      "    \"\"\"Computes the next position and velocity for all masses given \n",
      "    initial conditions and a time step size.\n",
      "    \"\"\"\n",
      "    N = len(x0)\n",
      "    tasks = [(i, x0, v0, G, m, dt) for i in range(N)]\n",
      "    results = pool.do(tasks)\n",
      "    x1 = np.empty(x0.shape, dtype=float)\n",
      "    v1 = np.empty(v0.shape, dtype=float)\n",
      "    for i, x_i1, v_i1 in results:\n",
      "        x1[i] = x_i1\n",
      "        v1[i] = v_i1\n",
      "    return x1, v1"
     ],
     "language": "python",
     "metadata": {},
     "outputs": []
    },
    {
     "cell_type": "code",
     "collapsed": false,
     "input": [
      "def simulate(P, N, D, S, G, dt):\n",
      "    x0, v0, m = initial_cond(N, D)\n",
      "    pool = Pool(P)\n",
      "    for s in range(S):\n",
      "        x1, v1 = timestep(x0, v0, G, m, dt, pool)\n",
      "        x0, v0 = x1, v1"
     ],
     "language": "python",
     "metadata": {},
     "outputs": []
    },
    {
     "cell_type": "code",
     "collapsed": false,
     "input": [
      "Ps = [1, 2, 4, 8]\n",
      "runtimes = []\n",
      "for P in Ps:\n",
      "    start = time.time()\n",
      "    simulate(P, 64, 3, 300, 1.0, 1e-3)\n",
      "    stop = time.time()\n",
      "    runtimes.append(stop - start)"
     ],
     "language": "python",
     "metadata": {},
     "outputs": []
    },
    {
     "cell_type": "code",
     "collapsed": false,
     "input": [
      "from multiprocessing import Pool\n",
      "\n",
      "def timestep_i(args):\n",
      "    \"\"\"Computes the next position and velocity for the ith mass.\"\"\"\n",
      "    i, x0, v0, G, m, dt = args\n",
      "    a_i0 = a(i, x0, G, m)\n",
      "    v_i1 = a_i0 * dt + v0[i]\n",
      "    x_i1 = a_i0 * dt**2 + v0[i] * dt + x0[i]\n",
      "    return i, x_i1, v_i1"
     ],
     "language": "python",
     "metadata": {},
     "outputs": []
    },
    {
     "cell_type": "code",
     "collapsed": false,
     "input": [
      "def timestep(x0, v0, G, m, dt, pool):\n",
      "    \"\"\"Computes the next position and velocity for all masses given \n",
      "    initial conditions and a time step size.\n",
      "    \"\"\"\n",
      "    N = len(x0)\n",
      "    tasks = [(i, x0, v0, G, m, dt) for i in range(N)]\n",
      "    results = pool.map(timestep_i, tasks)\n",
      "    x1 = np.empty(x0.shape, dtype=float)\n",
      "    v1 = np.empty(v0.shape, dtype=float)\n",
      "    for i, x_i1, v_i1 in results:\n",
      "        x1[i] = x_i1\n",
      "        v1[i] = v_i1\n",
      "    return x1, v1"
     ],
     "language": "python",
     "metadata": {},
     "outputs": []
    },
    {
     "cell_type": "code",
     "collapsed": false,
     "input": [
      "import time\n",
      "Ps = [1, 2, 4, 8]\n",
      "runtimes = []\n",
      "for P in Ps:\n",
      "    start = time.time()\n",
      "    simulate(P, 256, 3, 300, 1.0, 1e-3)\n",
      "    stop = time.time()\n",
      "    runtimes.append(stop - start)"
     ],
     "language": "python",
     "metadata": {},
     "outputs": []
    },
    {
     "cell_type": "code",
     "collapsed": false,
     "input": [
      "from mpi4py import MPI\n",
      "from mpi4py.MPI import COMM_WORLD\n",
      "\n",
      "from types import FunctionType"
     ],
     "language": "python",
     "metadata": {},
     "outputs": []
    },
    {
     "cell_type": "code",
     "collapsed": false,
     "input": [
      "class Pool(object):\n",
      "    \"\"\"Process pool using MPI.\"\"\"\n",
      "    def __init__(self):\n",
      "        self.f = None\n",
      "        self.P = COMM_WORLD.Get_size()\n",
      "        self.rank = COMM_WORLD.Get_rank()\n",
      "\n",
      "    def wait(self):\n",
      "        if self.rank == 0:\n",
      "            raise RuntimeError(\"Proc 0 cannot wait!\")\n",
      "        status = MPI.Status()\n",
      "        while True:\n",
      "            task = COMM_WORLD.recv(source=0, tag=MPI.ANY_TAG, status=status)\n",
      "            if not task:\n",
      "                break\n",
      "            if isinstance(task, FunctionType):\n",
      "                self.f = task\n",
      "                continue\n",
      "            result = self.f(task)\n",
      "            COMM_WORLD.isend(result, dest=0, tag=status.tag)\n",
      "\n",
      "    def map(self, f, tasks):\n",
      "        N = len(tasks)\n",
      "        P = self.P\n",
      "        Pless1 = P - 1\n",
      "        if self.rank != 0:\n",
      "            self.wait()\n",
      "            return\n",
      "\n",
      "        if f is not self.f:\n",
      "            self.f = f\n",
      "            requests = []\n",
      "            for p in range(1, self.P):\n",
      "                r = COMM_WORLD.isend(f, dest=p)\n",
      "                requests.append(r)\n",
      "            MPI.Request.waitall(requests)\n",
      "\n",
      "        requests = []\n",
      "        for i, task in enumerate(tasks):\n",
      "            r = COMM_WORLD.isend(task, dest=(i%Pless1)+1, tag=i)\n",
      "            requests.append(r)\n",
      "        MPI.Request.waitall(requests)\n",
      "\n",
      "        results = []\n",
      "        for i in range(N):\n",
      "            result = COMM_WORLD.recv(source=(i%Pless1)+1, tag=i)\n",
      "            results.append(result)\n",
      "        return results\n",
      "\n",
      "    def __del__(self):\n",
      "        if self.rank == 0:\n",
      "            for p in range(1, self.P):\n",
      "                COMM_WORLD.isend(False, dest=p)"
     ],
     "language": "python",
     "metadata": {},
     "outputs": []
    },
    {
     "cell_type": "code",
     "collapsed": false,
     "input": [
      "def simulate(N, D, S, G, dt):\n",
      "    x0, v0, m = initial_cond(N, D)\n",
      "    pool = Pool()\n",
      "    if COMM_WORLD.Get_rank() == 0:\n",
      "        for s in range(S):\n",
      "            x1, v1 = timestep(x0, v0, G, m, dt, pool)\n",
      "            x0, v0 = x1, v1\n",
      "    else:\n",
      "        pool.wait()"
     ],
     "language": "python",
     "metadata": {},
     "outputs": []
    },
    {
     "cell_type": "code",
     "collapsed": false,
     "input": [
      "if __name__ == '__main__':\n",
      "    simulate(128, 3, 300, 1.0, 1e-3)"
     ],
     "language": "python",
     "metadata": {},
     "outputs": []
    }
   ],
   "metadata": {}
  }
 ]
}