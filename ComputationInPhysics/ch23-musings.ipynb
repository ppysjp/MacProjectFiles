{
 "metadata": {
  "name": "",
  "signature": "sha256:e31bc27bdc408ba9926102b08c59d6a89b9aeb07823a13dcb16130ebaf04474a"
 },
 "nbformat": 3,
 "nbformat_minor": 0,
 "worksheets": [
  {
   "cells": [
    {
     "cell_type": "markdown",
     "metadata": {},
     "source": [
      "# No Python Code in Chapter 23"
     ]
    }
   ],
   "metadata": {}
  }
 ]
}