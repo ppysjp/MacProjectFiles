{
 "metadata": {
  "name": "",
  "signature": "sha256:fd2b883533b1d54f926703deccf81e178ee97b96087e2efee3d8e3f7beb272d5"
 },
 "nbformat": 3,
 "nbformat_minor": 0,
 "worksheets": [
  {
   "cells": [
    {
     "cell_type": "markdown",
     "metadata": {},
     "source": [
      "# No Python Code in Chapter 1"
     ]
    }
   ],
   "metadata": {}
  }
 ]
}