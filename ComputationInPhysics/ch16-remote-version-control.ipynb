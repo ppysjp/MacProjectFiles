{
 "metadata": {
  "name": "",
  "signature": "sha256:db1cdd17da745fd8422eea7c47580eafbb02891ed1bc16f0b6f045d1baced159"
 },
 "nbformat": 3,
 "nbformat_minor": 0,
 "worksheets": [
  {
   "cells": [
    {
     "cell_type": "markdown",
     "metadata": {},
     "source": [
      "# No Python Code in Chapter 16"
     ]
    }
   ],
   "metadata": {}
  }
 ]
}