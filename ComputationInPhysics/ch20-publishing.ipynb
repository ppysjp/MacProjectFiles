{
 "metadata": {
  "name": "",
  "signature": "sha256:efab9517cf91cd895a06826e6223b50e4966b625033833b1afed4c6f3057eda7"
 },
 "nbformat": 3,
 "nbformat_minor": 0,
 "worksheets": [
  {
   "cells": [
    {
     "cell_type": "markdown",
     "metadata": {},
     "source": [
      "# No Python Code in Chapter 20"
     ]
    }
   ],
   "metadata": {}
  }
 ]
}