{
 "metadata": {
  "name": "",
  "signature": "sha256:09afbd2293ea9d3d7f389bba0c6bad7762f871439287601dd99009fbd2d75f14"
 },
 "nbformat": 3,
 "nbformat_minor": 0,
 "worksheets": [
  {
   "cells": [
    {
     "cell_type": "markdown",
     "metadata": {},
     "source": [
      "# No Python Code in Chapter 14"
     ]
    }
   ],
   "metadata": {}
  }
 ]
}