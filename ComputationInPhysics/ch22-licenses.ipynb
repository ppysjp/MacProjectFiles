{
 "metadata": {
  "name": "",
  "signature": "sha256:5b9aedf0b77c4e524e17aed82ee0a536fbaffda7094296aea1ba8f689c786b25"
 },
 "nbformat": 3,
 "nbformat_minor": 0,
 "worksheets": [
  {
   "cells": [
    {
     "cell_type": "markdown",
     "metadata": {},
     "source": [
      "# No Python Code in Chapter 22"
     ]
    }
   ],
   "metadata": {}
  }
 ]
}