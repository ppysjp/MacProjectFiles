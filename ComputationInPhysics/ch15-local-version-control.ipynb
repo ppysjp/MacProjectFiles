{
 "metadata": {
  "name": "",
  "signature": "sha256:244bc669a5b1ada31780025afd6c798633d02a089701abb565fb015a9ef61e6f"
 },
 "nbformat": 3,
 "nbformat_minor": 0,
 "worksheets": [
  {
   "cells": [
    {
     "cell_type": "markdown",
     "metadata": {},
     "source": [
      "# No Python Code in Chapter 15"
     ]
    }
   ],
   "metadata": {}
  }
 ]
}