{
 "metadata": {
  "name": "",
  "signature": "sha256:ff7085d4adddde9839084e8e96d9db19507b89aefcf331f30bf54a381832a69a"
 },
 "nbformat": 3,
 "nbformat_minor": 0,
 "worksheets": [
  {
   "cells": [
    {
     "cell_type": "code",
     "collapsed": false,
     "input": [
      "def the_function(var):\n",
      "    \"\"\"This is a docstring, where a function definition might live\"\"\"\n",
      "    a = 1 + var  # this is a simple comment\n",
      "    return a"
     ],
     "language": "python",
     "metadata": {},
     "outputs": [],
     "prompt_number": 1
    },
    {
     "cell_type": "code",
     "collapsed": false,
     "input": [
      "def decay(index, database):\n",
      "    # first, retrieve the decay constants from the database\n",
      "    mylist = database.decay_constants()\n",
      "    # next, try to access an element of the list\n",
      "    try:\n",
      "        d = mylist[index] # gets decay constant at index in the list\n",
      "    # if the index doesn't exist\n",
      "    except IndexError:\n",
      "        # throw an informative error message\n",
      "        raise Exception(\"value not found in the list\")\n",
      "    return d"
     ],
     "language": "python",
     "metadata": {},
     "outputs": [],
     "prompt_number": 2
    },
    {
     "cell_type": "code",
     "collapsed": false,
     "input": [
      "def decay(index, database):\n",
      "    lambdas = database.decay_constants()\n",
      "    try:\n",
      "        lambda_i = lambdas[index]    # gets decay constant at index in the list\n",
      "    except IndexError:\n",
      "        raise Exception(\"value not found in the list\")\n",
      "    return lambda_i"
     ],
     "language": "python",
     "metadata": {},
     "outputs": [],
     "prompt_number": 3
    },
    {
     "cell_type": "code",
     "collapsed": false,
     "input": [
      "def decay(index, database):\n",
      "    lambdas = database.decay_constants()\n",
      "    try:\n",
      "        lambda_i = lambdas[index]    # gets decay constant at index in the list\n",
      "    except LookupError:\n",
      "        raise Exception(\"value not found in the decay constants object\")\n",
      "    return lambda_i"
     ],
     "language": "python",
     "metadata": {},
     "outputs": [],
     "prompt_number": 4
    },
    {
     "cell_type": "code",
     "collapsed": false,
     "input": [
      "def power(base, x):\n",
      "    \"\"\"Computes base^x. Both base and x should be integers,\n",
      "    floats, or another numeric type.\n",
      "    \"\"\"\n",
      "    return base**x "
     ],
     "language": "python",
     "metadata": {},
     "outputs": [],
     "prompt_number": 5
    },
    {
     "cell_type": "code",
     "collapsed": false,
     "input": [
      "class Isotope(object):\n",
      "    \"\"\"A class defining the data and behaviors of a radionuclide.\n",
      "    \"\"\""
     ],
     "language": "python",
     "metadata": {},
     "outputs": [],
     "prompt_number": 6
    }
   ],
   "metadata": {}
  }
 ]
}